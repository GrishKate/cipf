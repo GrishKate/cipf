{
 "cells": [
  {
   "cell_type": "code",
   "execution_count": 1,
   "metadata": {
    "id": "rb5VSo4mNkVd"
   },
   "outputs": [],
   "source": [
    "import torch\n",
    "import matplotlib.pyplot as plt\n",
    "from torch import nn, Tensor\n",
    "from tqdm import tqdm\n",
    "from src.tools import load_dataset\n",
    "import numpy as np\n",
    "# import wandb\n",
    "from src.model import SongUNet"
   ]
  },
  {
   "cell_type": "code",
   "execution_count": 2,
   "metadata": {},
   "outputs": [
    {
     "name": "stdout",
     "output_type": "stream",
     "text": [
      "cuda\n"
     ]
    }
   ],
   "source": [
    "inner_iters = 10000\n",
    "batch_size = 64\n",
    "vocab_size = 256\n",
    "T = 10\n",
    "\n",
    "IMG_SIZE = 32\n",
    "IMG_CHANNELS = 3\n",
    "\n",
    "device = torch.device(\"cuda\" if torch.cuda.is_available() else \"cpu\")\n",
    "print(device)"
   ]
  },
  {
   "cell_type": "code",
   "execution_count": 3,
   "metadata": {},
   "outputs": [],
   "source": [
    "from src.tools import load_dataset\n",
    "sampler3, test_sampler3, loader3, test_loader3 = load_dataset('MNIST-colored_3', './datasets/MNIST', img_size=IMG_SIZE, batch_size=batch_size, device=device)\n",
    "sampler2, test_sampler2, loader2, test_loader2 = load_dataset('MNIST-colored_2', './datasets/MNIST', img_size=IMG_SIZE, batch_size=batch_size, device=device)\n",
    "Y_sampler = sampler3\n",
    "X_sampler = sampler2\n",
    "\n",
    "def sampler_0(batch_size: int = 200, device: str = \"cpu\") -> Tensor:\n",
    "    x_end = X_sampler.sample(batch_size)\n",
    "    # x_end = x_end.view(batch_size, -1).mul(0.5).add(0.5).clip(0,1)*255\n",
    "    x_end = x_end.mul(0.5).add(0.5).clip(0,1)*(vocab_size-1)\n",
    "    return x_end.long()\n",
    "\n",
    "def sampler_1(batch_size: int = 200, device: str = \"cpu\") -> Tensor:\n",
    "    x_end = Y_sampler.sample(batch_size)\n",
    "    # x_end = x_end.view(batch_size, -1).mul(0.5).add(0.5).clip(0,1)*255\n",
    "    x_end = x_end.mul(0.5).add(0.5).clip(0,1)*(vocab_size-1)\n",
    "    return x_end.long()"
   ]
  },
  {
   "cell_type": "code",
   "execution_count": 4,
   "metadata": {},
   "outputs": [],
   "source": [
    "from typing import Optional, Tuple\n",
    "import torch.nn.functional as F"
   ]
  },
  {
   "cell_type": "markdown",
   "metadata": {},
   "source": [
    "# Training"
   ]
  },
  {
   "cell_type": "code",
   "execution_count": 5,
   "metadata": {},
   "outputs": [
    {
     "name": "stdout",
     "output_type": "stream",
     "text": [
      "denoiser params: 35445888\n"
     ]
    }
   ],
   "source": [
    "model_f = SongUNet(img_resolution=32, in_channels=3, out_channels=3, vocab_size=vocab_size, model_channels=96).to(device)\n",
    "optim_f = torch.optim.Adam(model_f.parameters(), lr=1e-3)\n",
    "\n",
    "model_b = SongUNet(img_resolution=32, in_channels=3, out_channels=3, vocab_size=vocab_size, model_channels=96).to(device)\n",
    "optim_b = torch.optim.Adam(model_b.parameters(), lr=1e-3)\n",
    "\n",
    "print('denoiser params:', np.sum([np.prod(p.shape) for p in model_f.parameters()]))"
   ]
  },
  {
   "cell_type": "code",
   "execution_count": 6,
   "metadata": {},
   "outputs": [
    {
     "name": "stderr",
     "output_type": "stream",
     "text": [
      "<ipython-input-6-715b7410bf9b>:1: FutureWarning: You are using `torch.load` with `weights_only=False` (the current default value), which uses the default pickle module implicitly. It is possible to construct malicious pickle data which will execute arbitrary code during unpickling (See https://github.com/pytorch/pytorch/blob/main/SECURITY.md#untrusted-models for more details). In a future release, the default value for `weights_only` will be flipped to `True`. This limits the functions that could be executed during unpickling. Arbitrary objects will no longer be allowed to be loaded via this mode unless they are explicitly allowlisted by the user via `torch.serialization.add_safe_globals`. We recommend you start setting `weights_only=True` for any use case where you don't have full control of the loaded file. Please open an issue on GitHub for any issues related to this experimental feature.\n",
      "  model_f = torch.load('model_f.pt')\n"
     ]
    }
   ],
   "source": [
    "model_f = torch.load('model_f.pt')"
   ]
  },
  {
   "cell_type": "code",
   "execution_count": 27,
   "metadata": {},
   "outputs": [],
   "source": [
    "def train_with_data(model, optim, type='f'):\n",
    "    # for iter in tqdm(range(inner_iters)):\n",
    "    for iter in range(inner_iters):\n",
    "        loss_sum = 0\n",
    "        for i in range(100):\n",
    "            t = torch.randint(low=1, high=T + 2, size=(batch_size,), device=device)\n",
    "            x_1 = sampler_1(batch_size).view(batch_size, -1)\n",
    "            x_0 = sampler_0(batch_size).view(batch_size, -1)\n",
    "            \n",
    "            if type=='f':\n",
    "                x_t = torch.where(torch.randint(low=1, high=T + 2, size=(batch_size, model.d), device=device) <  t[:, None], x_1, x_0)\n",
    "            else:\n",
    "                x_t = torch.where(torch.randint(low=1, high=T + 2, size=(batch_size, model.d), device=device) <  t[:, None], x_0, x_1)\n",
    "\n",
    "            x_t = x_t.view(x_1.shape[0], IMG_CHANNELS, IMG_SIZE, IMG_SIZE)\n",
    "            logits = model(x_t, t).flatten(start_dim=0, end_dim=-2)\n",
    "            if type=='f':\n",
    "                loss = F.cross_entropy(logits, x_0.flatten(start_dim=0, end_dim=-1)).mean()\n",
    "            else:\n",
    "                loss = F.cross_entropy(logits, x_1.flatten(start_dim=0, end_dim=-1)).mean()\n",
    "\n",
    "            optim.zero_grad()\n",
    "            loss.backward()\n",
    "            optim.step()\n",
    "            loss_sum += loss.item()\n",
    "\n",
    "        print('Loss:', loss_sum/100)\n",
    "        visualize(sampler_1, model_f, f'samples/f/{iter}.png')\n",
    "        torch.save(model, 'model_f.pt')"
   ]
  },
  {
   "cell_type": "markdown",
   "metadata": {},
   "source": [
    "# Sampling"
   ]
  },
  {
   "cell_type": "code",
   "execution_count": 28,
   "metadata": {},
   "outputs": [],
   "source": [
    "def cost(traj):\n",
    "    costs = 0\n",
    "    for i in range(len(traj)-1):\n",
    "        costs += (traj[i] != traj[i+1]).float().mean()\n",
    "    \n",
    "    return costs"
   ]
  },
  {
   "cell_type": "code",
   "execution_count": 29,
   "metadata": {},
   "outputs": [],
   "source": [
    "def visualize(sampler, model, name='samples/test.png'):\n",
    "    N = 10\n",
    "\n",
    "    x_t = sampler(N)\n",
    "    x_0 = x_t\n",
    "    t = T\n",
    "    results = [(x_t, t)]\n",
    "    while t > 0:\n",
    "        p1 = torch.softmax(model(x_t, torch.ones(N).to(device) * t), dim=-1)\n",
    "        one_hot_x_t = nn.functional.one_hot(x_t, vocab_size).float()\n",
    "        u = (p1 - one_hot_x_t) / (t/(T+1))\n",
    "        x_t = torch.distributions.Categorical(probs=one_hot_x_t + u/(T+1)).sample()\n",
    "        t -= 1\n",
    "        results.append((x_t.long(), t))\n",
    "\n",
    "    x_1 = results[-1][0]\n",
    "\n",
    "    fig, axes = plt.subplots(1, len(results), figsize=(15, 3), sharex=True, sharey=True)\n",
    "\n",
    "    for i, (x_t, t) in enumerate(results):\n",
    "        axes[i].imshow(x_t.permute(0,2,3,1)[0].detach().cpu())\n",
    "\n",
    "    plt.tight_layout()\n",
    "    plt.savefig(name)  # Saves as PNG\n",
    "    plt.close()\n",
    "    plt.show()\n",
    "    # print('OT cost:', cost(results))"
   ]
  },
  {
   "cell_type": "code",
   "execution_count": 30,
   "metadata": {},
   "outputs": [],
   "source": [
    "visualize(sampler_1, model_f)\n",
    "# visualize(sampler_1, model_b)"
   ]
  },
  {
   "cell_type": "code",
   "execution_count": 33,
   "metadata": {},
   "outputs": [
    {
     "name": "stdout",
     "output_type": "stream",
     "text": [
      "Loss: 0.8918605768680572\n",
      "Loss: 0.8898259776830674\n",
      "Loss: 0.8905714559555054\n"
     ]
    },
    {
     "ename": "KeyboardInterrupt",
     "evalue": "",
     "output_type": "error",
     "traceback": [
      "\u001b[0;31m---------------------------------------------------------------------------\u001b[0m",
      "\u001b[0;31mKeyboardInterrupt\u001b[0m                         Traceback (most recent call last)",
      "\u001b[0;32m<ipython-input-33-a41da3f5b749>\u001b[0m in \u001b[0;36m<cell line: 1>\u001b[0;34m()\u001b[0m\n\u001b[0;32m----> 1\u001b[0;31m \u001b[0mtrain_with_data\u001b[0m\u001b[0;34m(\u001b[0m\u001b[0mmodel_f\u001b[0m\u001b[0;34m,\u001b[0m \u001b[0moptim_f\u001b[0m\u001b[0;34m,\u001b[0m \u001b[0;34m'f'\u001b[0m\u001b[0;34m)\u001b[0m\u001b[0;34m\u001b[0m\u001b[0;34m\u001b[0m\u001b[0m\n\u001b[0m",
      "\u001b[0;32m<ipython-input-27-10f0e0e6b935>\u001b[0m in \u001b[0;36mtrain_with_data\u001b[0;34m(model, optim, type)\u001b[0m\n\u001b[1;32m     21\u001b[0m \u001b[0;34m\u001b[0m\u001b[0m\n\u001b[1;32m     22\u001b[0m             \u001b[0moptim\u001b[0m\u001b[0;34m.\u001b[0m\u001b[0mzero_grad\u001b[0m\u001b[0;34m(\u001b[0m\u001b[0;34m)\u001b[0m\u001b[0;34m\u001b[0m\u001b[0;34m\u001b[0m\u001b[0m\n\u001b[0;32m---> 23\u001b[0;31m             \u001b[0mloss\u001b[0m\u001b[0;34m.\u001b[0m\u001b[0mbackward\u001b[0m\u001b[0;34m(\u001b[0m\u001b[0;34m)\u001b[0m\u001b[0;34m\u001b[0m\u001b[0;34m\u001b[0m\u001b[0m\n\u001b[0m\u001b[1;32m     24\u001b[0m             \u001b[0moptim\u001b[0m\u001b[0;34m.\u001b[0m\u001b[0mstep\u001b[0m\u001b[0;34m(\u001b[0m\u001b[0;34m)\u001b[0m\u001b[0;34m\u001b[0m\u001b[0;34m\u001b[0m\u001b[0m\n\u001b[1;32m     25\u001b[0m             \u001b[0mloss_sum\u001b[0m \u001b[0;34m+=\u001b[0m \u001b[0mloss\u001b[0m\u001b[0;34m.\u001b[0m\u001b[0mitem\u001b[0m\u001b[0;34m(\u001b[0m\u001b[0;34m)\u001b[0m\u001b[0;34m\u001b[0m\u001b[0;34m\u001b[0m\u001b[0m\n",
      "\u001b[0;32m/opt/software/python/envs/google_colab_gpu_2024/lib/python3.10/site-packages/torch/_tensor.py\u001b[0m in \u001b[0;36mbackward\u001b[0;34m(self, gradient, retain_graph, create_graph, inputs)\u001b[0m\n\u001b[1;32m    579\u001b[0m                 \u001b[0minputs\u001b[0m\u001b[0;34m=\u001b[0m\u001b[0minputs\u001b[0m\u001b[0;34m,\u001b[0m\u001b[0;34m\u001b[0m\u001b[0;34m\u001b[0m\u001b[0m\n\u001b[1;32m    580\u001b[0m             )\n\u001b[0;32m--> 581\u001b[0;31m         torch.autograd.backward(\n\u001b[0m\u001b[1;32m    582\u001b[0m             \u001b[0mself\u001b[0m\u001b[0;34m,\u001b[0m \u001b[0mgradient\u001b[0m\u001b[0;34m,\u001b[0m \u001b[0mretain_graph\u001b[0m\u001b[0;34m,\u001b[0m \u001b[0mcreate_graph\u001b[0m\u001b[0;34m,\u001b[0m \u001b[0minputs\u001b[0m\u001b[0;34m=\u001b[0m\u001b[0minputs\u001b[0m\u001b[0;34m\u001b[0m\u001b[0;34m\u001b[0m\u001b[0m\n\u001b[1;32m    583\u001b[0m         )\n",
      "\u001b[0;32m/opt/software/python/envs/google_colab_gpu_2024/lib/python3.10/site-packages/torch/autograd/__init__.py\u001b[0m in \u001b[0;36mbackward\u001b[0;34m(tensors, grad_tensors, retain_graph, create_graph, grad_variables, inputs)\u001b[0m\n\u001b[1;32m    345\u001b[0m     \u001b[0;31m# some Python versions print out the first line of a multi-line function\u001b[0m\u001b[0;34m\u001b[0m\u001b[0;34m\u001b[0m\u001b[0m\n\u001b[1;32m    346\u001b[0m     \u001b[0;31m# calls in the traceback and some print out the last line\u001b[0m\u001b[0;34m\u001b[0m\u001b[0;34m\u001b[0m\u001b[0m\n\u001b[0;32m--> 347\u001b[0;31m     _engine_run_backward(\n\u001b[0m\u001b[1;32m    348\u001b[0m         \u001b[0mtensors\u001b[0m\u001b[0;34m,\u001b[0m\u001b[0;34m\u001b[0m\u001b[0;34m\u001b[0m\u001b[0m\n\u001b[1;32m    349\u001b[0m         \u001b[0mgrad_tensors_\u001b[0m\u001b[0;34m,\u001b[0m\u001b[0;34m\u001b[0m\u001b[0;34m\u001b[0m\u001b[0m\n",
      "\u001b[0;32m/opt/software/python/envs/google_colab_gpu_2024/lib/python3.10/site-packages/torch/autograd/graph.py\u001b[0m in \u001b[0;36m_engine_run_backward\u001b[0;34m(t_outputs, *args, **kwargs)\u001b[0m\n\u001b[1;32m    823\u001b[0m         \u001b[0munregister_hooks\u001b[0m \u001b[0;34m=\u001b[0m \u001b[0m_register_logging_hooks_on_whole_graph\u001b[0m\u001b[0;34m(\u001b[0m\u001b[0mt_outputs\u001b[0m\u001b[0;34m)\u001b[0m\u001b[0;34m\u001b[0m\u001b[0;34m\u001b[0m\u001b[0m\n\u001b[1;32m    824\u001b[0m     \u001b[0;32mtry\u001b[0m\u001b[0;34m:\u001b[0m\u001b[0;34m\u001b[0m\u001b[0;34m\u001b[0m\u001b[0m\n\u001b[0;32m--> 825\u001b[0;31m         return Variable._execution_engine.run_backward(  # Calls into the C++ engine to run the backward pass\n\u001b[0m\u001b[1;32m    826\u001b[0m             \u001b[0mt_outputs\u001b[0m\u001b[0;34m,\u001b[0m \u001b[0;34m*\u001b[0m\u001b[0margs\u001b[0m\u001b[0;34m,\u001b[0m \u001b[0;34m**\u001b[0m\u001b[0mkwargs\u001b[0m\u001b[0;34m\u001b[0m\u001b[0;34m\u001b[0m\u001b[0m\n\u001b[1;32m    827\u001b[0m         )  # Calls into the C++ engine to run the backward pass\n",
      "\u001b[0;31mKeyboardInterrupt\u001b[0m: "
     ]
    }
   ],
   "source": [
    "train_with_data(model_f, optim_f, 'f')"
   ]
  },
  {
   "cell_type": "code",
   "execution_count": null,
   "metadata": {},
   "outputs": [],
   "source": [
    "x_0 = sampler_0(10)\n",
    "x_0.shape"
   ]
  },
  {
   "cell_type": "code",
   "execution_count": null,
   "metadata": {},
   "outputs": [],
   "source": [
    "pred_x_start = model_f.sample_trajectory(x_0, prior)[-2]\n",
    "plt.imshow(x_0.to('cpu').permute(0,2,3,1)[0].numpy().clip(0,255))"
   ]
  },
  {
   "cell_type": "code",
   "execution_count": null,
   "metadata": {},
   "outputs": [],
   "source": [
    "plt.imshow(pred_x_start.to('cpu').permute(0,2,3,1)[0].numpy().clip(0,255))"
   ]
  },
  {
   "cell_type": "code",
   "execution_count": null,
   "metadata": {},
   "outputs": [],
   "source": [
    "pred_x_start.shape"
   ]
  },
  {
   "cell_type": "code",
   "execution_count": null,
   "metadata": {},
   "outputs": [],
   "source": [
    "def sample_from_model(x, model, batch_size):\n",
    "    with torch.no_grad():\n",
    "        t = 0.0\n",
    "        while t < 1 - 1e-3:\n",
    "            p1 = torch.softmax(model(x, torch.ones(batch_size).to(device) * t), dim=-1)\n",
    "            h = min(0.01, 1.0 - t)\n",
    "            one_hot_x_t = nn.functional.one_hot(x, vocab_size).float()\n",
    "            u = (p1 - one_hot_x_t) / (1.0 - t)\n",
    "            x = torch.distributions.Categorical(probs=one_hot_x_t + h * u).sample()\n",
    "            t += h\n",
    "    return x"
   ]
  }
 ],
 "metadata": {
  "accelerator": "GPU",
  "colab": {
   "collapsed_sections": [
    "g8QtNgs1-PlE",
    "wW3VMmrK2t2d",
    "_7aH8D0H3IJT"
   ],
   "name": "scalable_CNF.ipynb",
   "provenance": []
  },
  "gpuClass": "standard",
  "kernelspec": {
   "display_name": "Google Colab Analog 2024 (PyTorch 2.5.1 + TensorFlow 2.18) [python-google_colab_gpu_2024]",
   "language": "python",
   "name": "conda-env-python-google_colab_gpu_2024-py"
  },
  "language_info": {
   "codemirror_mode": {
    "name": "ipython",
    "version": 3
   },
   "file_extension": ".py",
   "mimetype": "text/x-python",
   "name": "python",
   "nbconvert_exporter": "python",
   "pygments_lexer": "ipython3",
   "version": "3.10.15"
  }
 },
 "nbformat": 4,
 "nbformat_minor": 4
}
